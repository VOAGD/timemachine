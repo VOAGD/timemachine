{
 "cells": [
  {
   "cell_type": "code",
   "execution_count": 1,
   "metadata": {},
   "outputs": [],
   "source": [
    "from qiskit import *\n",
    "from qiskit import QuantumCircuit, QuantumRegister, ClassicalRegister\n",
    "from qiskit.visualization import plot_histogram\n",
    "from qiskit.visualization import plot_state_city, plot_bloch_multivector\n",
    "from qiskit import Aer, execute\n",
    "\n",
    "import matplotlib as mpl\n",
    "import matplotlib.pyplot as plt\n",
    "\n",
    "import math \n",
    "\n",
    "import pennylane as qml\n",
    "from pennylane import numpy as np\n",
    "from pennylane.optimize import NesterovMomentumOptimizer\n",
    "from pennylane import from_qiskit\n",
    "from pennylane import numpy as np\n",
    "from pennylane import qnode"
   ]
  },
  {
   "cell_type": "code",
   "execution_count": 2,
   "metadata": {},
   "outputs": [],
   "source": [
    "q = QuantumRegister(2)\n",
    "c = ClassicalRegister(2)\n",
    "qc = QuantumCircuit(q, c)"
   ]
  },
  {
   "cell_type": "code",
   "execution_count": 3,
   "metadata": {},
   "outputs": [
    {
     "data": {
      "text/html": [
       "<pre style=\"word-wrap: normal;white-space: pre;background: #fff0;line-height: 1.1;font-family: &quot;Courier New&quot;,Courier,monospace\">           ┌───┐     ┌────────────────┐┌─┐   \n",
       "q0_0: ─|0>─┤ H ├──■──┤ U(π/2,π/2,π/2) ├┤M├───\n",
       "           └───┘┌─┴─┐├────────────────┤└╥┘┌─┐\n",
       "q0_1: ─|0>──────┤ X ├┤ U(π/2,π/2,π/2) ├─╫─┤M├\n",
       "                └───┘└────────────────┘ ║ └╥┘\n",
       "c0: 2/══════════════════════════════════╩══╩═\n",
       "                                        0  1 </pre>"
      ],
      "text/plain": [
       "           ┌───┐     ┌────────────────┐┌─┐   \n",
       "q0_0: ─|0>─┤ H ├──■──┤ U(π/2,π/2,π/2) ├┤M├───\n",
       "           └───┘┌─┴─┐├────────────────┤└╥┘┌─┐\n",
       "q0_1: ─|0>──────┤ X ├┤ U(π/2,π/2,π/2) ├─╫─┤M├\n",
       "                └───┘└────────────────┘ ║ └╥┘\n",
       "c0: 2/══════════════════════════════════╩══╩═\n",
       "                                        0  1 "
      ]
     },
     "execution_count": 3,
     "metadata": {},
     "output_type": "execute_result"
    }
   ],
   "source": [
    "qc.reset(0)\n",
    "qc.reset(1)\n",
    "\n",
    "qc.h(0)\n",
    "qc.cx(0, 1)\n",
    "qc.u((np.pi/2), (np.pi/2), (np.pi/2), 0)\n",
    "qc.u((np.pi/2), (np.pi/2), (np.pi/2), 1)\n",
    "qc.name = \"Forwards\"\n",
    "\n",
    "qc.measure(0, 0)\n",
    "qc.measure(1, 1)\n",
    "\n",
    "qc.draw()"
   ]
  },
  {
   "cell_type": "code",
   "execution_count": 4,
   "metadata": {},
   "outputs": [
    {
     "data": {
      "text/plain": [
       "array([0.0000000e+00+0.j, 0.0000000e+00+0.j, 1.2246468e-16+1.j,\n",
       "       0.0000000e+00+0.j])"
      ]
     },
     "execution_count": 4,
     "metadata": {},
     "output_type": "execute_result"
    }
   ],
   "source": [
    "backend= Aer.get_backend('statevector_simulator')\n",
    "job= execute(qc, backend,shots=1)\n",
    "result = job.result()\n",
    "job.result().get_statevector()"
   ]
  },
  {
   "cell_type": "code",
   "execution_count": 5,
   "metadata": {},
   "outputs": [
    {
     "data": {
      "text/html": [
       "<pre style=\"word-wrap: normal;white-space: pre;background: #fff0;line-height: 1.1;font-family: &quot;Courier New&quot;,Courier,monospace\">      ┌───────────────────────┐┌─────┐┌─┐   \n",
       "q0_0: ┤0                      ├┤ TDG ├┤M├───\n",
       "      │  initialize(0,0,1j,0) │├─────┤└╥┘┌─┐\n",
       "q0_1: ┤1                      ├┤ TDG ├─╫─┤M├\n",
       "      └───────────────────────┘└─────┘ ║ └╥┘\n",
       "c0: 2/═════════════════════════════════╩══╩═\n",
       "                                       0  1 </pre>"
      ],
      "text/plain": [
       "      ┌───────────────────────┐┌─────┐┌─┐   \n",
       "q0_0: ┤0                      ├┤ TDG ├┤M├───\n",
       "      │  initialize(0,0,1j,0) │├─────┤└╥┘┌─┐\n",
       "q0_1: ┤1                      ├┤ TDG ├─╫─┤M├\n",
       "      └───────────────────────┘└─────┘ ║ └╥┘\n",
       "c0: 2/═════════════════════════════════╩══╩═\n",
       "                                       0  1 "
      ]
     },
     "execution_count": 5,
     "metadata": {},
     "output_type": "execute_result"
    }
   ],
   "source": [
    "qq = QuantumCircuit(q, c)\n",
    "\n",
    "qq.initialize(job.result().get_statevector(),[0,1])\n",
    "qq.tdg(0) \n",
    "qq.tdg(1)\n",
    "qq.name = \"Backwards\"\n",
    "\n",
    "qq.measure(0, 0)\n",
    "qq.measure(1, 1)\n",
    "qq.draw()"
   ]
  },
  {
   "cell_type": "code",
   "execution_count": 6,
   "metadata": {},
   "outputs": [
    {
     "name": "stdout",
     "output_type": "stream",
     "text": [
      "{'10': 1}\n"
     ]
    }
   ],
   "source": [
    "job1 = execute(qq, backend, shots=1000)\n",
    "result1 = job1.result()\n",
    "counts1  = result1.get_counts(qq)\n",
    "print(counts1)\n",
    "backend = BasicAer.get_backend('statevector_simulator')\n",
    "\n",
    "path = execute(qq, backend).result()\n",
    "theta  = path.get_statevector(qq)"
   ]
  },
  {
   "cell_type": "code",
   "execution_count": 7,
   "metadata": {},
   "outputs": [
    {
     "data": {
      "text/html": [
       "<pre style=\"word-wrap: normal;white-space: pre;background: #fff0;line-height: 1.1;font-family: &quot;Courier New&quot;,Courier,monospace\">     ┌─────────────────────────────────────┐\n",
       "q_0: ┤0                                    ├\n",
       "     │  initialize(0,0,0.70711+0.70711j,0) │\n",
       "q_1: ┤1                                    ├\n",
       "     ├─────────────────────────────────────┤\n",
       "q_2: ┤0                                    ├\n",
       "     │  initialize(0,0,0.70711+0.70711j,0) │\n",
       "q_3: ┤1                                    ├\n",
       "     └─────────────────────────────────────┘\n",
       "c: 2/═══════════════════════════════════════\n",
       "                                            </pre>"
      ],
      "text/plain": [
       "     ┌─────────────────────────────────────┐\n",
       "q_0: ┤0                                    ├\n",
       "     │  initialize(0,0,0.70711+0.70711j,0) │\n",
       "q_1: ┤1                                    ├\n",
       "     ├─────────────────────────────────────┤\n",
       "q_2: ┤0                                    ├\n",
       "     │  initialize(0,0,0.70711+0.70711j,0) │\n",
       "q_3: ┤1                                    ├\n",
       "     └─────────────────────────────────────┘\n",
       "c: 2/═══════════════════════════════════════\n",
       "                                            "
      ]
     },
     "execution_count": 7,
     "metadata": {},
     "output_type": "execute_result"
    }
   ],
   "source": [
    "qqq = QuantumCircuit(4, 2)\n",
    "qqq.initialize(theta, [0, 1])\n",
    "qqq.initialize(theta, [2, 3])\n",
    "qqq.draw()"
   ]
  },
  {
   "cell_type": "code",
   "execution_count": 32,
   "metadata": {},
   "outputs": [],
   "source": [
    "dev = qml.device('default.qubit', wires=2)\n",
    "\n",
    "@qml.qnode(dev)\n",
    "def Circuit(x):\n",
    "    qml.from_qiskit(qqq)\n",
    "    return qml.expval(qml.PauliZ(0))\n",
    "\n",
    "# QVC\n",
    "# QFT"
   ]
  }
 ],
 "metadata": {
  "kernelspec": {
   "display_name": "Python 3",
   "language": "python",
   "name": "python3"
  },
  "language_info": {
   "codemirror_mode": {
    "name": "ipython",
    "version": 3
   },
   "file_extension": ".py",
   "mimetype": "text/x-python",
   "name": "python",
   "nbconvert_exporter": "python",
   "pygments_lexer": "ipython3",
   "version": "3.8.5"
  }
 },
 "nbformat": 4,
 "nbformat_minor": 4
}
